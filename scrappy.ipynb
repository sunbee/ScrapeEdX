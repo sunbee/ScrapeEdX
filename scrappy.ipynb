{
 "cells": [
  {
   "cell_type": "code",
   "execution_count": 1,
   "metadata": {},
   "outputs": [],
   "source": [
    "import re\n",
    "import os\n",
    "import requests\n",
    "from bs4 import BeautifulSoup\n",
    "\n",
    "# ref: https://stackoverflow.com/questions/27652543/how-to-use-python-requests-to-fake-a-browser-visit/27652558"
   ]
  },
  {
   "cell_type": "code",
   "execution_count": 2,
   "metadata": {},
   "outputs": [],
   "source": [
    "url_mit = \"https://courses.edx.org/courses/course-v1:MITx+15.071x_2a+2T2015/a36e4c3815534ee5965d96974a0ec06a/\""
   ]
  },
  {
   "cell_type": "code",
   "execution_count": 3,
   "metadata": {},
   "outputs": [],
   "source": [
    "r = requests.get(url_mit)\n",
    "mit_soup = BeautifulSoup(r.content)\n",
    "# print(mit_soup.prettify())"
   ]
  },
  {
   "cell_type": "code",
   "execution_count": 4,
   "metadata": {},
   "outputs": [
    {
     "name": "stdout",
     "output_type": "stream",
     "text": [
      "10 .. 20 .. 30 .. 40 .. 50 .. 60 .. 70 .. 80 .. 90 .. 100 .. 110 .. 120 .. 130 .. 140 .. Done!\n"
     ]
    }
   ],
   "source": [
    "download_lynx = []\n",
    "count = 0\n",
    "for this_a in mit_soup.findAll('a', href=True):\n",
    "    if re.search(\"csv$|pdf|R$|ods$|xlsx$\", this_a['href']):\n",
    "        count += 1\n",
    "        if count % 10 == 0:\n",
    "            print(count, end=' .. ') \n",
    "        download_lynx.append(this_a['href'])\n",
    "print(\"Done!\")\n",
    "        "
   ]
  },
  {
   "cell_type": "code",
   "execution_count": 5,
   "metadata": {},
   "outputs": [
    {
     "name": "stdout",
     "output_type": "stream",
     "text": [
      "Downloading:  AirlineRM.ods .. Done!\n",
      "Downloading:  AirlineRM.xlsx .. Done!\n",
      "Downloading:  AirlineRM_Complete.ods .. Done!\n",
      "Downloading:  AirlineRM_Complete.xlsx .. Done!\n",
      "Downloading:  AirlineRM_Connecting.ods .. Done!\n",
      "Downloading:  AirlineRM_Connecting.xlsx .. Done!\n",
      "Downloading:  AirlineRM_Connecting_Complete.ods .. Done!\n",
      "Downloading:  AirlineRM_Connecting_Complete.xlsx .. Done!\n",
      "Downloading:  EvenStarFarm.ods .. Done!\n",
      "Downloading:  EvenStarFarm.xlsx .. Done!\n",
      "Downloading:  FilatoiRiuniti.ods .. Done!\n",
      "Downloading:  FilatoiRiuniti.xlsx .. Done!\n",
      "Downloading:  GoogleAdWords_LO.ods .. Done!\n",
      "Downloading:  GoogleAdWords_LO.xlsx .. Done!\n",
      "Downloading:  GoogleAdWords_LO_Complete.ods .. Done!\n",
      "Downloading:  GoogleAdWords_LO_Complete.xlsx .. Done!\n",
      "Downloading:  GoogleAdWords_Greedy.ods .. Done!\n",
      "Downloading:  GoogleAdWords_Greedy.xlsx .. Done!\n",
      "Downloading:  GoogleAdWords_Greedy_Complete.ods .. Done!\n",
      "Downloading:  GoogleAdWords_Greedy_Complete.xlsx .. Done!\n",
      "Downloading:  GoogleAdWords_LO_Sensitivity.ods .. Done!\n",
      "Downloading:  GoogleAdWords_LO_Sensitivity.xlsx .. Done!\n",
      "Downloading:  IMRT_SimpleExample.ods .. Done!\n",
      "Downloading:  IMRT_SimpleExample.xlsx .. Done!\n",
      "Downloading:  IMRT_SimpleExample_Complete.ods .. Done!\n",
      "Downloading:  IMRT_SimpleExample_Complete.xlsx .. Done!\n",
      "Downloading:  Investment.ods .. Done!\n",
      "Downloading:  Investment.xlsx .. Done!\n",
      "Downloading:  ClassAssignments.ods .. Done!\n",
      "Downloading:  ClassAssignments.xlsx .. Done!\n",
      "Downloading:  EvenStarFarmRevisited.ods .. Done!\n",
      "Downloading:  EvenStarFarmRevisited.xlsx .. Done!\n",
      "Downloading:  Gerrymandering.ods .. Done!\n",
      "Downloading:  Gerrymandering.xlsx .. Done!\n",
      "Downloading:  ORscheduling.ods .. Done!\n",
      "Downloading:  ORscheduling.xlsx .. Done!\n",
      "Downloading:  ORscheduling_Complete.ods .. Done!\n",
      "Downloading:  ORscheduling_Complete.xlsx .. Done!\n",
      "Downloading:  PfizerReps.ods .. Done!\n",
      "Downloading:  PfizerReps.xlsx .. Done!\n",
      "Downloading:  SelectingHotels.ods .. Done!\n",
      "Downloading:  SelectingHotels.xlsx .. Done!\n",
      "Downloading:  SportsScheduling.ods .. Done!\n",
      "Downloading:  SportsScheduling.xlsx .. Done!\n",
      "Downloading:  SportsScheduling_Complete.ods .. Done!\n",
      "Downloading:  SportsScheduling_Complete.xlsx .. Done!\n",
      "Skipped:  []\n"
     ]
    }
   ],
   "source": [
    "for lynk in download_lynx:\n",
    "    basedir = 'D:/ScrapeEdX'\n",
    "    skipped = []\n",
    "    # pat = '\\w+\\.csv$|\\w+.pdf$|\\w+.R'\n",
    "    pat = '\\w+\\.ods$|\\w+.xlsx$'\n",
    "    match = re.findall(pat, lynk)\n",
    "    if not match:\n",
    "        continue\n",
    "    print(\"Downloading: \", match[0], end = ' .. ')\n",
    "    try:\n",
    "        lynk = 'https:' + lynk\n",
    "        headers = {'User-Agent': 'Mozilla/5.0 (Macintosh; Intel Mac OS X 10_10_1) AppleWebKit/537.36 (KHTML, like Gecko) Chrome/39.0.2171.95 Safari/537.36'}\n",
    "        response = requests.get(lynk, headers=headers)\n",
    "        # print(response.content)\n",
    "        with open(os.path.join(basedir, match[0]), 'wb') as f:\n",
    "            f.write(response.content)\n",
    "        print('Done!')\n",
    "    except:\n",
    "        print(\"oops! Got a {} error with {}!\".format(response.status_code, response.headers['content-type']))\n",
    "        skipped.append(match[0])\n",
    "print(\"Skipped: \", skipped)\n",
    "    "
   ]
  },
  {
   "cell_type": "code",
   "execution_count": null,
   "metadata": {},
   "outputs": [],
   "source": []
  },
  {
   "cell_type": "code",
   "execution_count": null,
   "metadata": {},
   "outputs": [],
   "source": []
  },
  {
   "cell_type": "code",
   "execution_count": null,
   "metadata": {},
   "outputs": [],
   "source": []
  },
  {
   "cell_type": "code",
   "execution_count": null,
   "metadata": {},
   "outputs": [],
   "source": []
  }
 ],
 "metadata": {
  "kernelspec": {
   "display_name": "Python 3",
   "language": "python",
   "name": "python3"
  },
  "language_info": {
   "codemirror_mode": {
    "name": "ipython",
    "version": 3
   },
   "file_extension": ".py",
   "mimetype": "text/x-python",
   "name": "python",
   "nbconvert_exporter": "python",
   "pygments_lexer": "ipython3",
   "version": "3.7.3"
  }
 },
 "nbformat": 4,
 "nbformat_minor": 2
}
